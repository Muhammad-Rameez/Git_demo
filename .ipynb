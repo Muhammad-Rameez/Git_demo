{
 "cells": [
  {
   "cell_type": "code",
   "execution_count": 6,
   "metadata": {},
   "outputs": [
    {
     "name": "stdout",
     "output_type": "stream",
     "text": [
      "{0: 'the lowest number', 'a dozen': 12, 'snake eyes': 'a pair of ones', 13: \"a baker's dozen\"}\n",
      "{0: 'the lowest number', 'snake eyes': 'a pair of ones', 13: \"a baker's dozen\", 'New Task': 'Study all stuff'}\n"
     ]
    }
   ],
   "source": [
    "things_to_remember = { \n",
    "    0: \"the lowest number\",\n",
    "    \"a dozen\": 12, \n",
    "    \"snake eyes\": \"a pair of ones\",\n",
    "    13: \"a baker's dozen\",\n",
    "    }\n",
    "print(things_to_remember)\n",
    "x= [\"abc\",]\n",
    "\n",
    "things_to_remember[\"New Task\"]= \"study of python's book\"\n",
    "things_to_remember[\"New Task\"]= \"Study all stuff\"\n",
    "del things_to_remember[\"a dozen\"]\n",
    "print(things_to_remember)"
   ]
  },
  {
   "cell_type": "code",
   "execution_count": 11,
   "metadata": {},
   "outputs": [
    {
     "name": "stdout",
     "output_type": "stream",
     "text": [
      "('first name', 'David')\n",
      "('last name', 'Elliott')\n",
      "('address', '4803 Wellesley St.')\n"
     ]
    }
   ],
   "source": [
    "customer_29876 = {\"first name\": \"David\", \"last name\": \"Elliott\", \"address\": \"4803 Wellesley St.\"}\n",
    "for each_value in customer_29876.items():\n",
    "    print(each_value)"
   ]
  },
  {
   "cell_type": "code",
   "execution_count": 12,
   "metadata": {},
   "outputs": [
    {
     "name": "stdout",
     "output_type": "stream",
     "text": [
      "The customer's first name is David\n",
      "The customer's last name is Elliott\n",
      "The customer's address is 4803 Wellesley St.\n"
     ]
    }
   ],
   "source": [
    " for each_key, each_value in customer_29876.items(): \n",
    "    print(\"The customer's \" + each_key + \" is \" + each_value)"
   ]
  },
  {
   "cell_type": "code",
   "execution_count": null,
   "metadata": {},
   "outputs": [],
   "source": []
  },
  {
   "cell_type": "code",
   "execution_count": 15,
   "metadata": {},
   "outputs": [
    {
     "name": "stdout",
     "output_type": "stream",
     "text": [
      "[{'first name': 'Anndrew', 'last name': 'Methews', 'address': '4803 California St.'}, {'first name': 'David', 'last name': 'Elliott', 'address': '4803 Wellesley St.'}]\n",
      "------------------------\n",
      "[{'first name': 'David', 'last name': 'Elliott', 'address': '4803 Wellesley St.'}, {'first name': 'Anndrew', 'last name': 'Methews', 'address': '4803 California St.'}]\n"
     ]
    }
   ],
   "source": [
    "customer_29877 = {\"first name\": \"Anndrew\", \"last name\": \"Methews\", \"address\": \"4803 California St.\"}\n",
    "customer_29876 = {\"first name\": \"David\", \"last name\": \"Elliott\", \"address\": \"4803 Wellesley St.\"}\n",
    "customers=[]\n",
    "customers.append(customer_29877)\n",
    "customers.append(customer_29876)\n",
    "print(customers)\n",
    "print(\"------------------------\")\n",
    "customers=[customer_29876,customer_29877]\n",
    "print(customers)"
   ]
  },
  {
   "cell_type": "code",
   "execution_count": 4,
   "metadata": {},
   "outputs": [
    {
     "name": "stdout",
     "output_type": "stream",
     "text": [
      "3 Main St.\n",
      "Jill\n",
      "3\n",
      "4\n"
     ]
    }
   ],
   "source": [
    "customers = [\n",
    "    {  \"customer id\": 0, \"first name\":\"John\", \"last name\": \"Ogden\", \"address\": \"301 Arbor Rd.\", },\n",
    "    {  \"customer id\": 1, \"first name\":\"Ann\",  \"last name\": \"Sattermyer\",  \"address\": \"PO Box 1145\", },\n",
    "    {  \"customer id\": 2, \"first name\":\"Jill\", \"last name\": \"Somers\", \"address\": \"3 Main St.\", }, ]\n",
    "print(customers[2][\"address\"])\n",
    "dict= customers[2]\n",
    "print(dict[\"first name\"])\n",
    "print(len(customers))\n",
    "\n",
    "new_dictionary =[\n",
    "    {\"customer id\": 3, \"first name\":\"aaa\", \"last name\": \"bbb\", \"address\": \"301 Arbor Rd.\",}\n",
    "]\n",
    "\n",
    "customers.append(new_dictionary)\n",
    "print(len(customers))"
   ]
  },
  {
   "cell_type": "code",
   "execution_count": 18,
   "metadata": {},
   "outputs": [],
   "source": [
    "def add_number():\n",
    "    \n",
    "    x =2\n",
    "    y =3\n",
    "    t= x + y\n",
    "    print(total)\n"
   ]
  },
  {
   "cell_type": "code",
   "execution_count": 27,
   "metadata": {},
   "outputs": [],
   "source": [
    "def add_numbers():\n",
    "    first_number =2\n",
    "    second_number =3\n",
    "    total=  first_number + second_number\n",
    "    print(total)\n"
   ]
  },
  {
   "cell_type": "code",
   "execution_count": 42,
   "metadata": {},
   "outputs": [
    {
     "name": "stdout",
     "output_type": "stream",
     "text": [
      "5\n",
      "None\n"
     ]
    }
   ],
   "source": [
    "def add_numbers (): \n",
    "    first_number = 2\n",
    "    second_number = 3\n",
    "    total = first_number + second_number \n",
    "    print(total)\n",
    "    \n",
    "print(add_numbers())    \n",
    "#def calc_tax(sales_total=101, tax_rate=.04):\n",
    " #   print(sales_total * tax_rate)\n",
    "#calc_tax()\n",
    "#calc_tax(200,.08)\n",
    "#calc_tax(200)\n",
    "#calc_tax(101.37,.08)\n",
    "\n",
    "#calc_tax(sales_total=101.37, tax_rate=.05)"
   ]
  },
  {
   "cell_type": "code",
   "execution_count": 46,
   "metadata": {},
   "outputs": [
    {
     "name": "stdout",
     "output_type": "stream",
     "text": [
      "Somers\n"
     ]
    }
   ],
   "source": [
    "def find_something(dct, inner_dict, target): \n",
    "    print(dct[inner_dict][target]) \n",
    "    \n",
    "customers = { \n",
    "     0: { \n",
    "         \"first name\":\"John\", \n",
    "         \"last name\": \"Ogden\", \n",
    "         \"address\": \"301 Arbor Rd.\", \n",
    "     }, \n",
    "     1: { \n",
    "         \"first name\":\"Ann\", \n",
    "         \"last name\": \"Sattermyer\", \n",
    "         \"address\": \"PO Box 1145\", \n",
    "     }, \n",
    "     2: { \n",
    "         \"first name\":\"Jill\", \n",
    "         \"last name\": \"Somers\", \n",
    "         \"address\": \"3 Main St.\", \n",
    "     }, \n",
    " }\n",
    "find_something(customers, 2, \"last name\")"
   ]
  },
  {
   "cell_type": "code",
   "execution_count": 49,
   "metadata": {
    "scrolled": true
   },
   "outputs": [
    {
     "name": "stdout",
     "output_type": "stream",
     "text": [
      "The winner was Real Madrid\n",
      "The score was 1-0\n",
      "overtime: yes\n",
      "injuries: none\n",
      "*----------*\n",
      "The winner was Real Madrid\n",
      "The score was 1-0\n",
      "*----------*\n"
     ]
    }
   ],
   "source": [
    " def display_result(winner, score, **other_info): \n",
    "        print(\"The winner was \" + winner) \n",
    "        print(\"The score was \" + score) \n",
    "        for key, value in other_info.items(): \n",
    "            print(key + \": \" + value)\n",
    "            \n",
    "        print(\"*----------*\")\n",
    "display_result(winner=\"Real Madrid\", score=\"1-0\", overtime =\"yes\", injuries=\"none\")\n",
    "display_result(winner=\"Real Madrid\", score=\"1-0\")\n",
    "display_result(winner=\"Real Madrid\", score=\"1-0\",)"
   ]
  },
  {
   "cell_type": "code",
   "execution_count": 54,
   "metadata": {},
   "outputs": [
    {
     "name": "stdout",
     "output_type": "stream",
     "text": [
      "200\n",
      "300\n",
      "(500,)\n"
     ]
    }
   ],
   "source": [
    " def display_nums(first_num, second_num, *opt_nums): \n",
    "        print(first_num) \n",
    "        print(second_num) \n",
    "        print(opt_nums)\n",
    "display_nums(200,300,500)"
   ]
  },
  {
   "cell_type": "code",
   "execution_count": null,
   "metadata": {},
   "outputs": [],
   "source": []
  },
  {
   "cell_type": "code",
   "execution_count": null,
   "metadata": {},
   "outputs": [],
   "source": []
  }
 ],
 "metadata": {
  "kernelspec": {
   "display_name": "Python 3",
   "language": "python",
   "name": "python3"
  },
  "language_info": {
   "codemirror_mode": {
    "name": "ipython",
    "version": 3
   },
   "file_extension": ".py",
   "mimetype": "text/x-python",
   "name": "python",
   "nbconvert_exporter": "python",
   "pygments_lexer": "ipython3",
   "version": "3.7.3"
  }
 },
 "nbformat": 4,
 "nbformat_minor": 2
}
